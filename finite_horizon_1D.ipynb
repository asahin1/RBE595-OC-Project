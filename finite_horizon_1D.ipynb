{
 "cells": [
  {
   "cell_type": "markdown",
   "metadata": {},
   "source": [
    "## Importing"
   ]
  },
  {
   "cell_type": "code",
   "execution_count": 1,
   "metadata": {},
   "outputs": [],
   "source": [
    "import numpy as np\n",
    "from filterpy.kalman import UnscentedKalmanFilter, MerweScaledSigmaPoints\n",
    "from filterpy.common import Q_discrete_white_noise\n",
    "import matplotlib.pyplot as plt\n",
    "import pickle"
   ]
  },
  {
   "cell_type": "markdown",
   "metadata": {},
   "source": [
    "## Global Variables"
   ]
  },
  {
   "cell_type": "code",
   "execution_count": 2,
   "metadata": {},
   "outputs": [
    {
     "name": "stdout",
     "output_type": "stream",
     "text": [
      "R_MAX:  4.0\n",
      "R_MIN:  -3.0\n"
     ]
    }
   ],
   "source": [
    "X_MAX = 40\n",
    "R_MAX = np.round(np.log(X_MAX))\n",
    "R_MIN = np.round(np.log(0.05))\n",
    "print(\"R_MAX: \",R_MAX)\n",
    "print(\"R_MIN: \",R_MIN)"
   ]
  },
  {
   "cell_type": "markdown",
   "metadata": {},
   "source": [
    "## Sensor Setup"
   ]
  },
  {
   "cell_type": "code",
   "execution_count": 3,
   "metadata": {},
   "outputs": [],
   "source": [
    "class Sensor:\n",
    "    def __init__(self,num,cost,center,decay,magnitude,noise):\n",
    "        self.num = num\n",
    "        self.cost = cost\n",
    "        self.center = center\n",
    "        self.decay = decay\n",
    "        self.magnitude = magnitude\n",
    "        self.noise = noise\n",
    "    \n",
    "    def __str__(self):\n",
    "        return \"Sensor \" + str(self.num)\n",
    "    \n",
    "    def signal(self,x):\n",
    "        a = self.magnitude\n",
    "        b = self.decay\n",
    "        c = self.center\n",
    "        return a/(abs(x-c)+b)\n",
    "    \n",
    "    def variable_noise(self,x):\n",
    "        return self.noise*np.sqrt(abs(x-self.center))"
   ]
  },
  {
   "cell_type": "markdown",
   "metadata": {},
   "source": [
    "$\\text{signal} = \\frac{a}{|x-c|+b}$"
   ]
  },
  {
   "cell_type": "markdown",
   "metadata": {},
   "source": [
    "## Environment Generation"
   ]
  },
  {
   "cell_type": "code",
   "execution_count": 4,
   "metadata": {},
   "outputs": [],
   "source": [
    "cost_list = [3,3,4,2,5,1]\n",
    "center_list = [18,25,4,12,30,37]\n",
    "decay_list = [6,2,3,5,5,3]\n",
    "magnitude_list = [15,10,20,10,15,10]\n",
    "# noise_list = [.4,.48,.16,.24,0.64,0.12,.08,.4,.24,0.08]\n",
    "noise_list = [.05,.1,.05,.3,.1,.2]\n",
    "sensor_list = list()\n",
    "for i in range(0,len(cost_list)):\n",
    "    sensor_list.append(Sensor(i,cost_list[i],center_list[i],decay_list[i],magnitude_list[i],noise_list[i]))"
   ]
  },
  {
   "cell_type": "code",
   "execution_count": 5,
   "metadata": {},
   "outputs": [
    {
     "data": {
      "text/plain": [
       "Text(0.5, 1.0, 'Sensor signals(without noise)')"
      ]
     },
     "execution_count": 5,
     "metadata": {},
     "output_type": "execute_result"
    },
    {
     "data": {
      "image/png": "[encoded data removed]",
      "text/plain": [
       "<Figure size 432x288 with 1 Axes>"
      ]
     },
     "metadata": {
      "needs_background": "light"
     },
     "output_type": "display_data"
    }
   ],
   "source": [
    "signal_arr = np.zeros((len(sensor_list),X_MAX+1))\n",
    "for i in range(1,len(sensor_list)):\n",
    "    sensor = sensor_list[i]\n",
    "    for x in range(0,X_MAX+1):\n",
    "        signal_arr[i,x] = sensor.signal(x)\n",
    "    plt.plot(signal_arr[i,:],label=\"Sensor \" + str(i))\n",
    "plt.legend()\n",
    "plt.title(\"Sensor signals(without noise)\")"
   ]
  },
  {
   "cell_type": "code",
   "execution_count": 6,
   "metadata": {},
   "outputs": [],
   "source": [
    "def sensor_list_print(sensor_list):\n",
    "    for sensor in sensor_list:\n",
    "        print(sensor)"
   ]
  },
  {
   "cell_type": "markdown",
   "metadata": {},
   "source": [
    "## Filtering"
   ]
  },
  {
   "cell_type": "code",
   "execution_count": 7,
   "metadata": {},
   "outputs": [],
   "source": [
    "def f_process(x,dt):\n",
    "    return x"
   ]
  },
  {
   "cell_type": "code",
   "execution_count": 8,
   "metadata": {},
   "outputs": [],
   "source": [
    "def h_measurement(x,sensor):\n",
    "    return sensor.signal(x)"
   ]
  },
  {
   "cell_type": "code",
   "execution_count": 9,
   "metadata": {},
   "outputs": [],
   "source": [
    "def ukfilter(x,P,sensor,xa):\n",
    "    points = MerweScaledSigmaPoints(1, alpha=.001, beta=2., kappa=0)\n",
    "    dt = 1\n",
    "    ukf = UnscentedKalmanFilter(dim_x=1, dim_z=1, dt=dt, fx=f_process, hx=h_measurement, points=points)\n",
    "    ukf.x = x\n",
    "    ukf.P = P\n",
    "#     z_std = sensor.variable_noise(xa)\n",
    "    z_std = sensor.noise\n",
    "    ukf.R = np.diag([z_std**2])\n",
    "    ukf.Q = np.diag([0])\n",
    "    m = 3\n",
    "    zs = [[sensor.signal(xa)+np.random.randn()*z_std] for i in range(m)]\n",
    "    for z in zs:\n",
    "        ukf.predict()\n",
    "        ukf.update(z,sensor=sensor)\n",
    "    return ukf.x,ukf.P"
   ]
  },
  {
   "cell_type": "markdown",
   "metadata": {},
   "source": [
    "## Finite-Horizon Dynamic Programming"
   ]
  },
  {
   "cell_type": "code",
   "execution_count": 10,
   "metadata": {},
   "outputs": [
    {
     "name": "stdout",
     "output_type": "stream",
     "text": [
      "X:  [ 0  1  2  3  4  5  6  7  8  9 10 11 12 13 14 15 16 17 18 19 20 21 22 23\n",
      " 24 25 26 27 28 29 30 31 32 33 34 35 36 37 38 39 40]\n",
      "R:  [-3. -2. -1.  0.  1.  2.  3.  4.]\n",
      "A:  [ 0  1  2  3  4  5  6  7  8  9 10 11 12 13 14 15 16 17 18 19 20 21 22 23\n",
      " 24 25 26 27 28 29 30 31 32 33 34 35 36 37 38 39 40 41 42 43 44 45 46 47\n",
      " 48 49 50 51 52 53 54 55 56 57 58 59 60 61 62 63]\n",
      "K:  [0 1 2 3 4 5 6]\n"
     ]
    }
   ],
   "source": [
    "X_V = np.arange(0,X_MAX+1)\n",
    "R_V = np.arange(R_MIN,R_MAX+1)\n",
    "A_V = np.arange(0,2**len(sensor_list))\n",
    "K_V = np.arange(0,len(sensor_list)+1)\n",
    "print(\"X: \",X_V)\n",
    "print(\"R: \",R_V)\n",
    "print(\"A: \",A_V)\n",
    "print(\"K: \",K_V)"
   ]
  },
  {
   "cell_type": "code",
   "execution_count": 11,
   "metadata": {},
   "outputs": [],
   "source": [
    "def get_a(selection_list):\n",
    "    a = 0\n",
    "    for i in range(0,len(selection_list)):\n",
    "        a += selection_list[i]*2**(len(sensor_list)-1-i)\n",
    "    return a"
   ]
  },
  {
   "cell_type": "code",
   "execution_count": 12,
   "metadata": {},
   "outputs": [],
   "source": [
    "def get_selection_list(a):\n",
    "    string_list = bin(a)[2:]\n",
    "    selection_list = [0]*len(sensor_list)\n",
    "    for i in range(0,len(string_list)):\n",
    "        selection_list[len(sensor_list)-len(string_list)+i] = int(string_list[i])\n",
    "    return selection_list"
   ]
  },
  {
   "cell_type": "code",
   "execution_count": 13,
   "metadata": {},
   "outputs": [],
   "source": [
    "def get_terminal_cost(r):\n",
    "    ''' Terminal cost is a function of final variance\n",
    "        Consider a linear function '''\n",
    "    return 2*r"
   ]
  },
  {
   "cell_type": "code",
   "execution_count": 14,
   "metadata": {},
   "outputs": [],
   "source": [
    "def get_running_cost(u):\n",
    "    ''' Running cost is a function of the control\n",
    "        Corresponds to the sensor cost '''\n",
    "    if u==0:\n",
    "        return 0\n",
    "    else:\n",
    "        return u.cost"
   ]
  },
  {
   "cell_type": "code",
   "execution_count": 15,
   "metadata": {},
   "outputs": [],
   "source": [
    "def get_expected_cost(b,sensor,i,r,V,k):\n",
    "    tot_cost = 0\n",
    "    for xa in X_V:\n",
    "        j,s = estimation_simulator(i,r,sensor,xa)\n",
    "        j_index = np.where(X_V==np.round(j))[0][0]\n",
    "        s_index = np.where(R_V==np.round(s))[0][0]\n",
    "        tot_cost += get_running_cost(sensor) + V[k-1][j_index,s_index,b]\n",
    "    expected_cost = tot_cost/len(X_V)\n",
    "    return expected_cost"
   ]
  },
  {
   "cell_type": "code",
   "execution_count": 16,
   "metadata": {},
   "outputs": [],
   "source": [
    "def estimation_simulator(i,r,sensor,xa):\n",
    "    P = np.exp(r)\n",
    "    j,S = ukfilter(i,P,sensor,xa)\n",
    "    if S < 1e-10:\n",
    "        s=R_MIN\n",
    "    else:\n",
    "        s = np.log(S)\n",
    "    if j>X_MAX:\n",
    "        j=X_MAX\n",
    "    if j<0:\n",
    "        j=0\n",
    "    if s>R_MAX:\n",
    "        s=R_MAX\n",
    "    if s<R_MIN:\n",
    "        s=R_MIN\n",
    "    return float(j),float(s)"
   ]
  },
  {
   "cell_type": "code",
   "execution_count": 17,
   "metadata": {},
   "outputs": [],
   "source": [
    "def initialize_V():\n",
    "    V = dict()\n",
    "    V[0] = np.zeros((len(X_V),len(R_V),len(A_V)))\n",
    "    for idx in range(0,len(R_V)):\n",
    "        V[0][:,idx,:] = get_terminal_cost(R_V[idx])\n",
    "    return V"
   ]
  },
  {
   "cell_type": "code",
   "execution_count": 18,
   "metadata": {},
   "outputs": [],
   "source": [
    "def initialize_mu():\n",
    "    mu = dict()\n",
    "    return mu"
   ]
  },
  {
   "cell_type": "code",
   "execution_count": 19,
   "metadata": {},
   "outputs": [],
   "source": [
    "def a_valid(selection_list,k):\n",
    "    if sum(selection_list) + k > len(sensor_list):\n",
    "        return False\n",
    "    else:\n",
    "        return True"
   ]
  },
  {
   "cell_type": "code",
   "execution_count": 20,
   "metadata": {},
   "outputs": [],
   "source": [
    "def DP_step(V,mu,k):\n",
    "    print(\"Step: \",k)\n",
    "    V[k] = np.zeros((len(X_V),len(R_V),len(A_V)))\n",
    "    mu[k] = np.ones((len(X_V),len(R_V),len(A_V)))*5\n",
    "    for i in X_V:\n",
    "        print(i)\n",
    "        for r_idx in range(0,len(R_V)):\n",
    "            r = R_V[r_idx]\n",
    "            for a in A_V:\n",
    "                selection_list = get_selection_list(a)\n",
    "                if not a_valid(selection_list,k):\n",
    "                    continue\n",
    "                cost_list = list()\n",
    "                for u_idx in range(0,len(sensor_list)+1):\n",
    "                    if u_idx == len(sensor_list):\n",
    "                        cost = V[k-1][i,r_idx,a]\n",
    "                    elif selection_list[u_idx]:\n",
    "                        cost = 999999\n",
    "                    else:\n",
    "                        selection_list[u_idx] = 1\n",
    "                        b = get_a(selection_list)\n",
    "                        sensor = sensor_list[u_idx]\n",
    "                        cost = get_expected_cost(b,sensor,i,r,V,k)\n",
    "                    cost_list.append(cost)\n",
    "                V[k][i,r_idx,a] = np.min(cost_list)\n",
    "                mu[k][i,r_idx,a] = int(np.argmin(cost_list))\n",
    "    return V,mu"
   ]
  },
  {
   "cell_type": "code",
   "execution_count": 21,
   "metadata": {},
   "outputs": [],
   "source": [
    "def finite_horizon_DP(V,mu):\n",
    "    max_steps = len(sensor_list)\n",
    "    for k in range(1,max_steps+1):\n",
    "        V,mu = DP_step(V,mu,k)\n",
    "    return V,mu"
   ]
  },
  {
   "cell_type": "code",
   "execution_count": 22,
   "metadata": {},
   "outputs": [],
   "source": [
    "def run_algorithm():\n",
    "    V = initialize_V()\n",
    "    mu = initialize_mu()\n",
    "    V,mu = finite_horizon_DP(V,mu)\n",
    "    return V,mu"
   ]
  },
  {
   "cell_type": "code",
   "execution_count": 62,
   "metadata": {},
   "outputs": [
    {
     "name": "stdout",
     "output_type": "stream",
     "text": [
      "Step:  1\n",
      "0\n",
      "1\n",
      "2\n",
      "3\n",
      "4\n",
      "5\n",
      "6\n",
      "7\n",
      "8\n",
      "9\n",
      "10\n",
      "11\n",
      "12\n",
      "13\n",
      "14\n",
      "15\n",
      "16\n",
      "17\n",
      "18\n",
      "19\n",
      "20\n",
      "21\n",
      "22\n",
      "23\n",
      "24\n",
      "25\n",
      "26\n",
      "27\n",
      "28\n",
      "29\n",
      "30\n",
      "31\n",
      "32\n",
      "33\n",
      "34\n",
      "35\n",
      "36\n",
      "37\n",
      "38\n",
      "39\n",
      "40\n",
      "Step:  2\n",
      "0\n",
      "1\n",
      "2\n",
      "3\n",
      "4\n",
      "5\n",
      "6\n",
      "7\n",
      "8\n",
      "9\n",
      "10\n",
      "11\n",
      "12\n",
      "13\n",
      "14\n",
      "15\n",
      "16\n",
      "17\n",
      "18\n",
      "19\n",
      "20\n",
      "21\n",
      "22\n",
      "23\n",
      "24\n",
      "25\n",
      "26\n",
      "27\n",
      "28\n",
      "29\n",
      "30\n",
      "31\n",
      "32\n",
      "33\n",
      "34\n",
      "35\n",
      "36\n",
      "37\n",
      "38\n",
      "39\n",
      "40\n",
      "Step:  3\n",
      "0\n",
      "1\n",
      "2\n",
      "3\n",
      "4\n",
      "5\n",
      "6\n",
      "7\n",
      "8\n",
      "9\n",
      "10\n",
      "11\n",
      "12\n",
      "13\n",
      "14\n",
      "15\n",
      "16\n",
      "17\n",
      "18\n",
      "19\n",
      "20\n",
      "21\n",
      "22\n",
      "23\n",
      "24\n",
      "25\n",
      "26\n",
      "27\n",
      "28\n",
      "29\n",
      "30\n",
      "31\n",
      "32\n",
      "33\n",
      "34\n",
      "35\n",
      "36\n",
      "37\n",
      "38\n",
      "39\n",
      "40\n",
      "Step:  4\n",
      "0\n",
      "1\n",
      "2\n",
      "3\n",
      "4\n",
      "5\n",
      "6\n",
      "7\n",
      "8\n",
      "9\n",
      "10\n",
      "11\n",
      "12\n",
      "13\n",
      "14\n",
      "15\n",
      "16\n",
      "17\n",
      "18\n",
      "19\n",
      "20\n",
      "21\n",
      "22\n",
      "23\n",
      "24\n",
      "25\n",
      "26\n",
      "27\n",
      "28\n",
      "29\n",
      "30\n",
      "31\n",
      "32\n",
      "33\n",
      "34\n",
      "35\n",
      "36\n",
      "37\n",
      "38\n",
      "39\n",
      "40\n",
      "Step:  5\n",
      "0\n",
      "1\n",
      "2\n",
      "3\n",
      "4\n",
      "5\n",
      "6\n",
      "7\n",
      "8\n",
      "9\n",
      "10\n",
      "11\n",
      "12\n",
      "13\n",
      "14\n",
      "15\n",
      "16\n",
      "17\n",
      "18\n",
      "19\n",
      "20\n",
      "21\n",
      "22\n",
      "23\n",
      "24\n",
      "25\n",
      "26\n",
      "27\n",
      "28\n",
      "29\n",
      "30\n",
      "31\n",
      "32\n",
      "33\n",
      "34\n",
      "35\n",
      "36\n",
      "37\n",
      "38\n",
      "39\n",
      "40\n",
      "Step:  6\n",
      "0\n",
      "1\n",
      "2\n",
      "3\n",
      "4\n",
      "5\n",
      "6\n",
      "7\n",
      "8\n",
      "9\n",
      "10\n",
      "11\n",
      "12\n",
      "13\n",
      "14\n",
      "15\n",
      "16\n",
      "17\n",
      "18\n",
      "19\n",
      "20\n",
      "21\n",
      "22\n",
      "23\n",
      "24\n",
      "25\n",
      "26\n",
      "27\n",
      "28\n",
      "29\n",
      "30\n",
      "31\n",
      "32\n",
      "33\n",
      "34\n",
      "35\n",
      "36\n",
      "37\n",
      "38\n",
      "39\n",
      "40\n"
     ]
    }
   ],
   "source": [
    "V,mu = run_algorithm()"
   ]
  },
  {
   "cell_type": "code",
   "execution_count": 63,
   "metadata": {},
   "outputs": [],
   "source": [
    "with open('V40_8.pkl', 'wb') as output:\n",
    "    pickle.dump(V, output)"
   ]
  },
  {
   "cell_type": "code",
   "execution_count": 64,
   "metadata": {},
   "outputs": [],
   "source": [
    "with open('mu40_8.pkl', 'wb') as output: \n",
    "    pickle.dump(mu, output)"
   ]
  },
  {
   "cell_type": "code",
   "execution_count": 23,
   "metadata": {},
   "outputs": [],
   "source": [
    "with open(\"V40_8.pkl\", \"rb\") as fp:\n",
    "    V = pickle.load(fp)"
   ]
  },
  {
   "cell_type": "code",
   "execution_count": 24,
   "metadata": {},
   "outputs": [],
   "source": [
    "with open(\"mu40_8.pkl\", \"rb\") as fp:\n",
    "    mu = pickle.load(fp)"
   ]
  },
  {
   "cell_type": "markdown",
   "metadata": {},
   "source": [
    "## Sensor Selection Algorithms"
   ]
  },
  {
   "cell_type": "code",
   "execution_count": 25,
   "metadata": {},
   "outputs": [],
   "source": [
    "def get_optimal_sensor(mu,k,i,r,a):\n",
    "    i_index = np.where(X_V==np.round(i))[0][0]\n",
    "    r_index = np.where(R_V==np.round(r))[0][0]\n",
    "    a_index = a\n",
    "    u = mu[k][i_index,r_index,a_index]\n",
    "    return int(u)"
   ]
  },
  {
   "cell_type": "code",
   "execution_count": 26,
   "metadata": {},
   "outputs": [],
   "source": [
    "def optimal_location_estimator(i_0,r_0,a_0,mu,xa):\n",
    "    i = i_0\n",
    "    r = r_0\n",
    "    a = a_0\n",
    "    selection_list = get_selection_list(a)\n",
    "    total_cost = 0\n",
    "    max_steps = len(sensor_list)\n",
    "    for k in range(1,max_steps+1):\n",
    "        u = get_optimal_sensor(mu,k,i,r,a)\n",
    "        if u==len(sensor_list):\n",
    "            continue\n",
    "        else:\n",
    "            selection_list[u] = 1\n",
    "            sensor = sensor_list[u]\n",
    "            total_cost += sensor.cost\n",
    "            b = get_a(selection_list)\n",
    "            j,s = estimation_simulator(i,r,sensor,xa)\n",
    "            i = j\n",
    "            r = s\n",
    "            a = b\n",
    "    return i,r,total_cost"
   ]
  },
  {
   "cell_type": "code",
   "execution_count": 27,
   "metadata": {},
   "outputs": [],
   "source": [
    "def allsensors_location_estimator(i_0,r_0,xa):\n",
    "    i = i_0\n",
    "    r = r_0\n",
    "    used_sensors = list()\n",
    "    total_cost = 0\n",
    "    for sensor in sensor_list:\n",
    "        u = sensor\n",
    "        used_sensors.append(u)\n",
    "        total_cost += u.cost\n",
    "        j,s = estimation_simulator(i,r,u,xa)\n",
    "        i = j\n",
    "        r = s\n",
    "    return i,r,total_cost"
   ]
  },
  {
   "cell_type": "code",
   "execution_count": 28,
   "metadata": {},
   "outputs": [],
   "source": [
    "def cheap_location_estimator(i_0,r_0,xa,BUDGET):\n",
    "    i = i_0\n",
    "    r = r_0\n",
    "    used_sensors = list()\n",
    "    total_cost = 0\n",
    "    sensor_costs = list()\n",
    "    sensor_list_copy = sensor_list.copy()\n",
    "    for sensor in sensor_list:\n",
    "        sensor_costs.append(sensor.cost)\n",
    "    while total_cost < BUDGET and r>R_MIN:\n",
    "#     while r>R_TERM:\n",
    "        u = sensor_list_copy[np.argmin(sensor_costs)]\n",
    "        used_sensors.append(u)\n",
    "        sensor_list_copy.remove(u)\n",
    "        sensor_costs.remove(u.cost)\n",
    "        total_cost += u.cost\n",
    "        j,s = estimation_simulator(i,r,u,xa)\n",
    "        i = j\n",
    "        r = s\n",
    "    return i,r,total_cost"
   ]
  },
  {
   "cell_type": "markdown",
   "metadata": {},
   "source": [
    "## Algorithm Comparison"
   ]
  },
  {
   "cell_type": "code",
   "execution_count": 29,
   "metadata": {},
   "outputs": [],
   "source": [
    "def rms_error(error_vec):\n",
    "    sq_vec = list()\n",
    "    for item in error_vec:\n",
    "        sq_vec.append(item**2)\n",
    "    return np.sqrt(np.mean(sq_vec))"
   ]
  },
  {
   "cell_type": "code",
   "execution_count": 30,
   "metadata": {},
   "outputs": [],
   "source": [
    "def algorithm_comparison(num_est):\n",
    "    i_0 = X_MAX/2\n",
    "    r_0 = R_MAX\n",
    "    a_0 = 0\n",
    "    budget = 3\n",
    "    e_opt = list()\n",
    "    e_all = list()\n",
    "    e_cheap = list()\n",
    "    r_opt = list()\n",
    "    r_all = list()\n",
    "    r_cheap = list()\n",
    "    c_opt = list()\n",
    "    c_all = list()\n",
    "    c_cheap = list()\n",
    "    \n",
    "    for k in range(0,num_est):\n",
    "        xa = np.random.rand()*40\n",
    "        \n",
    "        i,r,c = optimal_location_estimator(i_0,r_0,a_0,mu,xa)\n",
    "        e_opt.append(xa-i)\n",
    "        r_opt.append(r)\n",
    "        c_opt.append(c)\n",
    "\n",
    "        i,r,c = allsensors_location_estimator(i_0,r_0,xa)\n",
    "        e_all.append(xa-i)\n",
    "        r_all.append(r)\n",
    "        c_all.append(c)\n",
    "\n",
    "        i,r,c = cheap_location_estimator(i_0,r_0,xa,budget)\n",
    "        e_cheap.append(xa-i)\n",
    "        r_cheap.append(r)\n",
    "        c_cheap.append(c)\n",
    "    \n",
    "    rms_opt = rms_error(e_opt)\n",
    "    rms_all = rms_error(e_all)\n",
    "    rms_cheap = rms_error(e_cheap)\n",
    "    \n",
    "    r_mean_opt = np.mean(r_opt)\n",
    "    r_mean_all = np.mean(r_all)\n",
    "    r_mean_cheap = np.mean(r_cheap)\n",
    "    \n",
    "    c_mean_opt = np.mean(c_opt)\n",
    "    c_mean_all = np.mean(c_all)\n",
    "    c_mean_cheap = np.mean(c_cheap)\n",
    "    \n",
    "    return rms_opt,rms_all,rms_cheap,r_mean_opt,r_mean_all,r_mean_cheap,c_mean_opt,c_mean_all,c_mean_cheap"
   ]
  },
  {
   "cell_type": "code",
   "execution_count": 31,
   "metadata": {},
   "outputs": [],
   "source": [
    "rms_opt,rms_all,rms_cheap,r_mean_opt,r_mean_all,r_mean_cheap,c_mean_opt,c_mean_all,c_mean_cheap = algorithm_comparison(10000)"
   ]
  },
  {
   "cell_type": "code",
   "execution_count": 32,
   "metadata": {},
   "outputs": [
    {
     "name": "stdout",
     "output_type": "stream",
     "text": [
      "OLE(2r)\n",
      "==========\n",
      "RMSE:  13.22195603985613\n",
      "r_mean:  -2.0106594155847226\n",
      "cost_mean:  6.4972\n",
      "=================\n",
      "ASLE\n",
      "==========\n",
      "RMSE:  5.7929302485965675\n",
      "r_mean:  -2.758835242556873\n",
      "cost_mean:  18.0\n",
      "=================\n",
      "BCLE\n",
      "==========\n",
      "RMSE:  5.794715631462032\n",
      "r_mean:  1.6333799085424545\n",
      "cost_mean:  3.0\n"
     ]
    }
   ],
   "source": [
    "print(\"OLE(2r)\\n==========\")\n",
    "print(\"RMSE: \",rms_opt)\n",
    "print(\"r_mean: \",r_mean_opt)\n",
    "print(\"cost_mean: \",c_mean_opt)\n",
    "print(\"=================\")\n",
    "print(\"ASLE\\n==========\")\n",
    "print(\"RMSE: \",rms_all)\n",
    "print(\"r_mean: \",r_mean_all)\n",
    "print(\"cost_mean: \",c_mean_all)\n",
    "print(\"=================\")\n",
    "print(\"BCLE\\n==========\")\n",
    "print(\"RMSE: \",rms_cheap)\n",
    "print(\"r_mean: \",r_mean_cheap)\n",
    "print(\"cost_mean: \",c_mean_cheap)"
   ]
  },
  {
   "cell_type": "code",
   "execution_count": 32,
   "metadata": {},
   "outputs": [],
   "source": [
    "i_0 = 20\n",
    "r_0 = 4\n",
    "a_0 = 0\n",
    "xa = 12\n",
    "budget = 3"
   ]
  },
  {
   "cell_type": "code",
   "execution_count": 33,
   "metadata": {},
   "outputs": [],
   "source": [
    "i,r,total_cost,selection_list = optimal_location_estimator(i_0,r_0,a_0,mu,xa)"
   ]
  },
  {
   "cell_type": "code",
   "execution_count": 34,
   "metadata": {},
   "outputs": [
    {
     "name": "stdout",
     "output_type": "stream",
     "text": [
      "Estimated position:  12.434379160371044\n",
      "Estimation variance:  -3.0\n",
      "Total incurred cost:  8\n",
      "Used sensors:  [0, 1, 0, 1, 0, 1]\n"
     ]
    }
   ],
   "source": [
    "print(\"Estimated position: \",i)\n",
    "print(\"Estimation variance: \",r)\n",
    "print(\"Total incurred cost: \",total_cost)\n",
    "print(\"Used sensors: \",selection_list)"
   ]
  },
  {
   "cell_type": "code",
   "execution_count": 1023,
   "metadata": {},
   "outputs": [],
   "source": [
    "i,r,total_cost,selection_list = allsensors_location_estimator(i_0,r_0,xa)"
   ]
  },
  {
   "cell_type": "code",
   "execution_count": 1024,
   "metadata": {},
   "outputs": [
    {
     "name": "stdout",
     "output_type": "stream",
     "text": [
      "Estimated position:  63.29993954595339\n",
      "Estimation variance:  -1.0708447450686984\n",
      "Total incurred cost:  12\n",
      "Used sensors: \n",
      "Sensor 0\n",
      "Sensor 1\n",
      "Sensor 2\n",
      "Sensor 3\n",
      "Sensor 4\n"
     ]
    }
   ],
   "source": [
    "print(\"Estimated position: \",i)\n",
    "print(\"Estimation variance: \",r)\n",
    "print(\"Total incurred cost: \",total_cost)\n",
    "print(\"Used sensors: \")\n",
    "sensor_list_print(selection_list)"
   ]
  },
  {
   "cell_type": "code",
   "execution_count": 1025,
   "metadata": {},
   "outputs": [],
   "source": [
    "i,r,total_cost,selection_list = cheap_location_estimator(i_0,r_0,xa,budget)"
   ]
  },
  {
   "cell_type": "code",
   "execution_count": 1026,
   "metadata": {},
   "outputs": [
    {
     "name": "stdout",
     "output_type": "stream",
     "text": [
      "Estimated position:  47.41668295424223\n",
      "Estimation variance:  2.717630979156569\n",
      "Total incurred cost:  3\n",
      "Used sensors: \n",
      "Sensor 0\n",
      "Sensor 1\n"
     ]
    }
   ],
   "source": [
    "print(\"Estimated position: \",i)\n",
    "print(\"Estimation variance: \",r)\n",
    "print(\"Total incurred cost: \",total_cost)\n",
    "print(\"Used sensors: \")\n",
    "sensor_list_print(selection_list)"
   ]
  },
  {
   "cell_type": "code",
   "execution_count": null,
   "metadata": {},
   "outputs": [],
   "source": []
  }
 ],
 "metadata": {
  "kernelspec": {
   "display_name": "Python 3",
   "language": "python",
   "name": "python3"
  },
  "language_info": {
   "codemirror_mode": {
    "name": "ipython",
    "version": 3
   },
   "file_extension": ".py",
   "mimetype": "text/x-python",
   "name": "python",
   "nbconvert_exporter": "python",
   "pygments_lexer": "ipython3",
   "version": "3.7.3"
  }
 },
 "nbformat": 4,
 "nbformat_minor": 2
}
